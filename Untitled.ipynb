{
  "nbformat": 4,
  "nbformat_minor": 0,
  "metadata": {
    "colab": {
      "name": "Untitled",
      "provenance": [],
      "authorship_tag": "ABX9TyMhOr3EnI4xtytJIepBVGwM",
      "include_colab_link": true
    },
    "kernelspec": {
      "name": "python3",
      "display_name": "Python 3"
    },
    "language_info": {
      "name": "python"
    }
  },
  "cells": [
    {
      "cell_type": "markdown",
      "metadata": {
        "id": "view-in-github",
        "colab_type": "text"
      },
      "source": [
        "<a href=\"https://colab.research.google.com/github/javierCruzTrejo/borrame/blob/main/Untitled.ipynb\" target=\"_parent\"><img src=\"https://colab.research.google.com/assets/colab-badge.svg\" alt=\"Open In Colab\"/></a>"
      ]
    },
    {
      "cell_type": "markdown",
      "source": [
        "Primer programa de Hola Mundo"
      ],
      "metadata": {
        "id": "8htxOjpkAL7X"
      }
    },
    {
      "cell_type": "markdown",
      "source": [
        "# Solicitamos el nombre del usuario, y los saludamos. Elaborado por Luis Javier Cruz Trejo 23/08/2022"
      ],
      "metadata": {
        "id": "0e6uRZk6_j9w"
      }
    },
    {
      "cell_type": "code",
      "source": [
        "nombreAlumno = input(\"Escribe tu nombre: \")\n",
        "print(\"Hola\", nombreAlumno, \"¿Como estas?\")"
      ],
      "metadata": {
        "colab": {
          "base_uri": "https://localhost:8080/"
        },
        "id": "qsvZyphp_7A6",
        "outputId": "a7d5ae4a-10cd-4a03-d7a7-3610b98b829c"
      },
      "execution_count": 5,
      "outputs": [
        {
          "output_type": "stream",
          "name": "stdout",
          "text": [
            "Escribe tu nombre: Javier\n",
            "Hola Javier ¿Como estas?\n"
          ]
        }
      ]
    },
    {
      "cell_type": "code",
      "execution_count": null,
      "metadata": {
        "id": "0SBmk1Pr-6Ra"
      },
      "outputs": [],
      "source": [
        ""
      ]
    }
  ]
}